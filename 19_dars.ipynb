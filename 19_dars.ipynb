{
  "nbformat": 4,
  "nbformat_minor": 0,
  "metadata": {
    "colab": {
      "provenance": [],
      "collapsed_sections": [],
      "authorship_tag": "ABX9TyOvrgE8kZoxmfGKetdL4ir0",
      "include_colab_link": true
    },
    "kernelspec": {
      "name": "python3",
      "display_name": "Python 3"
    },
    "language_info": {
      "name": "python"
    },
    "accelerator": "GPU"
  },
  "cells": [
    {
      "cell_type": "markdown",
      "metadata": {
        "id": "view-in-github",
        "colab_type": "text"
      },
      "source": [
        "<a href=\"https://colab.research.google.com/github/bmukhammadaliev/python-darsi-javoblari/blob/main/19_dars.ipynb\" target=\"_parent\"><img src=\"https://colab.research.google.com/assets/colab-badge.svg\" alt=\"Open In Colab\"/></a>"
      ]
    },
    {
      "cell_type": "code",
      "execution_count": 3,
      "metadata": {
        "colab": {
          "base_uri": "https://localhost:8080/"
        },
        "id": "0UcaeCAZbw5V",
        "outputId": "d73644c2-5151-462d-ac56-caa61cbe10d1"
      },
      "outputs": [
        {
          "output_type": "stream",
          "name": "stdout",
          "text": [
            "Ismingizni kiritining: behzod\n",
            "Yoshingizni kiriting: 23\n",
            "Salom Behzod, siz 1999-yilda tug'ulgansiz.\n"
          ]
        }
      ],
      "source": [
        "ism =  input(\"Ismingizni kiritining: \")\n",
        "yosh = int(input(\"Yoshingizni kiriting: \"))\n",
        "def t_yili(ism,yosh):\n",
        "  print(f\"Salom {ism.title()}, siz {2022-yosh}-yilda tug'ulgansiz.\")\n",
        "t_yili(ism,yosh)"
      ]
    },
    {
      "cell_type": "code",
      "source": [
        "son = float(input(\"Biror son kiriting: \"))\n",
        "def kv_kubi(son):\n",
        "  \"\"\"Foydalanuvchidan son olib, uning kvadrati va kubini konsolga chiqaruvchi funksiya\"\"\"\n",
        "  print(f\"{son} ning kvadrati {son**2} ga teng\\n\"\n",
        "  f\"{son} ning kubi {son**3} ga teng\")\n",
        "kv_kubi(son)"
      ],
      "metadata": {
        "colab": {
          "base_uri": "https://localhost:8080/"
        },
        "id": "JAeXtAkzmZy7",
        "outputId": "c849bcf0-b546-4a35-b850-adbebfee26de"
      },
      "execution_count": 5,
      "outputs": [
        {
          "output_type": "stream",
          "name": "stdout",
          "text": [
            "Biror son kiriting: 5\n",
            "5.0 ning kvadrati 25.0 ga teng\n",
            "5.0 ning kubi 125.0 ga teng\n"
          ]
        }
      ]
    },
    {
      "cell_type": "code",
      "source": [
        "son = float(input(\"Biror son kiriting: \"))\n",
        "def juft_toqligi(son):\n",
        "  \"\"\"Foydalanuvchidan son olib, son juft yoki toqligini konsolga chiqaruvchi funksiya\"\"\"\n",
        "  if son%2 == 0:\n",
        "    print(\"Kiritgan soningiz juft son\")\n",
        "  else:\n",
        "    print(\"Kiiritgn soningiz toq son\")\n",
        "juft_toqligi(son)"
      ],
      "metadata": {
        "colab": {
          "base_uri": "https://localhost:8080/"
        },
        "id": "gPcviBz6pE5W",
        "outputId": "230b8831-8b8c-4bd0-bd06-c067659cf160"
      },
      "execution_count": 7,
      "outputs": [
        {
          "output_type": "stream",
          "name": "stdout",
          "text": [
            "Biror son kiriting: 8475683274\n",
            "Kiritgan soningiz juft son\n"
          ]
        }
      ]
    },
    {
      "cell_type": "code",
      "source": [
        "son1 = float(input(\"Birinchi sonni kiriting: \"))\n",
        "son2 = float(input(\"Ikkinchi sonni kiriting \"))\n",
        "def taqqosla(x=son1,y=son2):\n",
        "  \"\"\"Foydalanuvchidan ikkita son olib, ulardan kattasini konsolga chiqaruvchi funksiya\"\"\"\n",
        "  if x>y:\n",
        "    print(f\"{x}>{y}\")\n",
        "  elif x<y:\n",
        "    print(f\"{x}<{y}\")\n",
        "  else:\n",
        "    print(\"Sonlar teng\")\n",
        "taqqosla(son1,son2)"
      ],
      "metadata": {
        "colab": {
          "base_uri": "https://localhost:8080/"
        },
        "id": "BpDuyI_kqRj3",
        "outputId": "e8a5cc26-4c4d-487d-d035-9d3472a7cbe6"
      },
      "execution_count": 11,
      "outputs": [
        {
          "output_type": "stream",
          "name": "stdout",
          "text": [
            "Birinchi sonni kiriting: 7567\n",
            "Ikkinchi sonni kiriting 46\n",
            "7567.0>46.0\n"
          ]
        }
      ]
    },
    {
      "cell_type": "code",
      "source": [
        "def daraja(x,y=2):\n",
        "  \"\"\"Foydalanuvchidan x va y sonlarini olib, x^y ni konsolga chiqaruvchi funksiya\"\"\"\n",
        "  print(f\"{x} ning {y} darajasi {x**y} ga teng\")\n",
        "\n",
        "daraja(5,6)\n",
        "daraja(746,-2)\n",
        "daraja(35)\n"
      ],
      "metadata": {
        "colab": {
          "base_uri": "https://localhost:8080/"
        },
        "id": "xErZVA1IsN8B",
        "outputId": "65b2ca90-f5a9-4b28-9018-e6f9dd87ca13"
      },
      "execution_count": 13,
      "outputs": [
        {
          "output_type": "stream",
          "name": "stdout",
          "text": [
            "5 ning 6 darajasi 15625 ga teng\n",
            "746 ning -2 darajasi 1.796893530464533e-06 ga teng\n",
            "35 ning 2 darajasi 1225 ga teng\n"
          ]
        }
      ]
    },
    {
      "cell_type": "code",
      "source": [
        "def qoldiq(son):\n",
        "  \"\"\"Foydalanuvchidan son qabul qilib, sonni 2 dan 10 gacha bo'lgan sonlarga qoldiqsiz bo'linishini tekshiruvchi funksiya\"\"\"\n",
        "  for x in range(2,11):\n",
        "    if son%x==0:\n",
        "      print(f\"{son} {x} ga qoldiqsiz bo'linadi\")\n",
        "qoldiq(47635)\n",
        "qoldiq(200)\n",
        "qoldiq(600)"
      ],
      "metadata": {
        "colab": {
          "base_uri": "https://localhost:8080/"
        },
        "id": "HWOcRvADtoWS",
        "outputId": "5ff28491-c6c4-4673-edbb-582b92f132ae"
      },
      "execution_count": 15,
      "outputs": [
        {
          "output_type": "stream",
          "name": "stdout",
          "text": [
            "47635 5 ga qoldiqsiz bo'linadi\n",
            "47635 7 ga qoldiqsiz bo'linadi\n",
            "200 2 ga qoldiqsiz bo'linadi\n",
            "200 4 ga qoldiqsiz bo'linadi\n",
            "200 5 ga qoldiqsiz bo'linadi\n",
            "200 8 ga qoldiqsiz bo'linadi\n",
            "200 10 ga qoldiqsiz bo'linadi\n",
            "600 2 ga qoldiqsiz bo'linadi\n",
            "600 3 ga qoldiqsiz bo'linadi\n",
            "600 4 ga qoldiqsiz bo'linadi\n",
            "600 5 ga qoldiqsiz bo'linadi\n",
            "600 6 ga qoldiqsiz bo'linadi\n",
            "600 8 ga qoldiqsiz bo'linadi\n",
            "600 10 ga qoldiqsiz bo'linadi\n"
          ]
        }
      ]
    }
  ]
}